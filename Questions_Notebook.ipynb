{
 "cells": [
  {
   "cell_type": "code",
   "execution_count": 1,
   "metadata": {},
   "outputs": [],
   "source": [
    "#EDA"
   ]
  },
  {
   "cell_type": "code",
   "execution_count": 3,
   "metadata": {},
   "outputs": [],
   "source": [
    "import pandas as pd\n",
    "import numpy as np\n",
    "import os\n",
    "import matplotlib.pyplot as plt\n",
    "import seaborn as sns"
   ]
  },
  {
   "cell_type": "code",
   "execution_count": 4,
   "metadata": {},
   "outputs": [
    {
     "data": {
      "text/html": [
       "<div>\n",
       "<style scoped>\n",
       "    .dataframe tbody tr th:only-of-type {\n",
       "        vertical-align: middle;\n",
       "    }\n",
       "\n",
       "    .dataframe tbody tr th {\n",
       "        vertical-align: top;\n",
       "    }\n",
       "\n",
       "    .dataframe thead th {\n",
       "        text-align: right;\n",
       "    }\n",
       "</style>\n",
       "<table border=\"1\" class=\"dataframe\">\n",
       "  <thead>\n",
       "    <tr style=\"text-align: right;\">\n",
       "      <th></th>\n",
       "      <th>Div</th>\n",
       "      <th>Date</th>\n",
       "      <th>HomeTeam</th>\n",
       "      <th>AwayTeam</th>\n",
       "      <th>FTHG</th>\n",
       "      <th>FTAG</th>\n",
       "      <th>FTR</th>\n",
       "      <th>HTHG</th>\n",
       "      <th>HTAG</th>\n",
       "      <th>HTR</th>\n",
       "      <th>Season</th>\n",
       "    </tr>\n",
       "  </thead>\n",
       "  <tbody>\n",
       "    <tr>\n",
       "      <th>7645</th>\n",
       "      <td>D1</td>\n",
       "      <td>12/5/2018</td>\n",
       "      <td>Hoffenheim</td>\n",
       "      <td>Dortmund</td>\n",
       "      <td>3</td>\n",
       "      <td>1</td>\n",
       "      <td>H</td>\n",
       "      <td>1.0</td>\n",
       "      <td>0.0</td>\n",
       "      <td>H</td>\n",
       "      <td>2017-18</td>\n",
       "    </tr>\n",
       "    <tr>\n",
       "      <th>7646</th>\n",
       "      <td>D1</td>\n",
       "      <td>12/5/2018</td>\n",
       "      <td>Leverkusen</td>\n",
       "      <td>Hannover</td>\n",
       "      <td>3</td>\n",
       "      <td>2</td>\n",
       "      <td>H</td>\n",
       "      <td>2.0</td>\n",
       "      <td>0.0</td>\n",
       "      <td>H</td>\n",
       "      <td>2017-18</td>\n",
       "    </tr>\n",
       "    <tr>\n",
       "      <th>7647</th>\n",
       "      <td>D1</td>\n",
       "      <td>12/5/2018</td>\n",
       "      <td>Mainz</td>\n",
       "      <td>Werder Bremen</td>\n",
       "      <td>1</td>\n",
       "      <td>2</td>\n",
       "      <td>A</td>\n",
       "      <td>1.0</td>\n",
       "      <td>1.0</td>\n",
       "      <td>D</td>\n",
       "      <td>2017-18</td>\n",
       "    </tr>\n",
       "    <tr>\n",
       "      <th>7648</th>\n",
       "      <td>D1</td>\n",
       "      <td>12/5/2018</td>\n",
       "      <td>Schalke 04</td>\n",
       "      <td>Ein Frankfurt</td>\n",
       "      <td>1</td>\n",
       "      <td>0</td>\n",
       "      <td>H</td>\n",
       "      <td>1.0</td>\n",
       "      <td>0.0</td>\n",
       "      <td>H</td>\n",
       "      <td>2017-18</td>\n",
       "    </tr>\n",
       "    <tr>\n",
       "      <th>7649</th>\n",
       "      <td>D1</td>\n",
       "      <td>12/5/2018</td>\n",
       "      <td>Wolfsburg</td>\n",
       "      <td>FC Koln</td>\n",
       "      <td>4</td>\n",
       "      <td>1</td>\n",
       "      <td>H</td>\n",
       "      <td>1.0</td>\n",
       "      <td>1.0</td>\n",
       "      <td>D</td>\n",
       "      <td>2017-18</td>\n",
       "    </tr>\n",
       "  </tbody>\n",
       "</table>\n",
       "</div>"
      ],
      "text/plain": [
       "     Div       Date    HomeTeam       AwayTeam  FTHG  FTAG FTR  HTHG  HTAG  \\\n",
       "7645  D1  12/5/2018  Hoffenheim       Dortmund     3     1   H   1.0   0.0   \n",
       "7646  D1  12/5/2018  Leverkusen       Hannover     3     2   H   2.0   0.0   \n",
       "7647  D1  12/5/2018       Mainz  Werder Bremen     1     2   A   1.0   1.0   \n",
       "7648  D1  12/5/2018  Schalke 04  Ein Frankfurt     1     0   H   1.0   0.0   \n",
       "7649  D1  12/5/2018   Wolfsburg        FC Koln     4     1   H   1.0   1.0   \n",
       "\n",
       "     HTR   Season  \n",
       "7645   H  2017-18  \n",
       "7646   H  2017-18  \n",
       "7647   D  2017-18  \n",
       "7648   H  2017-18  \n",
       "7649   D  2017-18  "
      ]
     },
     "execution_count": 4,
     "metadata": {},
     "output_type": "execute_result"
    }
   ],
   "source": [
    "df=pd.read_csv(\"Bundesliga_Results.csv\")\n",
    "df.tail()"
   ]
  },
  {
   "cell_type": "code",
   "execution_count": 14,
   "metadata": {},
   "outputs": [
    {
     "name": "stdout",
     "output_type": "stream",
     "text": [
      "<class 'pandas.core.frame.DataFrame'>\n",
      "Int64Index: 7038 entries, 612 to 7649\n",
      "Data columns (total 13 columns):\n",
      " #   Column    Non-Null Count  Dtype  \n",
      "---  ------    --------------  -----  \n",
      " 0   Div       7038 non-null   object \n",
      " 1   Date      7038 non-null   object \n",
      " 2   HomeTeam  7038 non-null   object \n",
      " 3   AwayTeam  7038 non-null   object \n",
      " 4   FTHG      7038 non-null   int64  \n",
      " 5   FTAG      7038 non-null   int64  \n",
      " 6   FTR       7038 non-null   object \n",
      " 7   HTHG      7038 non-null   float64\n",
      " 8   HTAG      7038 non-null   float64\n",
      " 9   HTR       7038 non-null   object \n",
      " 10  Season    7038 non-null   object \n",
      " 11  H         7038 non-null   object \n",
      " 12  A         7038 non-null   object \n",
      "dtypes: float64(2), int64(2), object(9)\n",
      "memory usage: 769.8+ KB\n"
     ]
    }
   ],
   "source": [
    "df.info()"
   ]
  },
  {
   "cell_type": "code",
   "execution_count": 16,
   "metadata": {},
   "outputs": [
    {
     "data": {
      "text/plain": [
       "(7038, 13)"
      ]
     },
     "execution_count": 16,
     "metadata": {},
     "output_type": "execute_result"
    }
   ],
   "source": [
    "df.shape"
   ]
  },
  {
   "cell_type": "code",
   "execution_count": 18,
   "metadata": {},
   "outputs": [
    {
     "data": {
      "text/plain": [
       "Div         0\n",
       "Date        0\n",
       "HomeTeam    0\n",
       "AwayTeam    0\n",
       "FTHG        0\n",
       "FTAG        0\n",
       "FTR         0\n",
       "HTHG        0\n",
       "HTAG        0\n",
       "HTR         0\n",
       "Season      0\n",
       "H           0\n",
       "A           0\n",
       "dtype: int64"
      ]
     },
     "execution_count": 18,
     "metadata": {},
     "output_type": "execute_result"
    }
   ],
   "source": [
    "df.isna().sum()"
   ]
  },
  {
   "cell_type": "code",
   "execution_count": 19,
   "metadata": {},
   "outputs": [
    {
     "data": {
      "text/plain": [
       "H    3288\n",
       "A    1955\n",
       "D    1795\n",
       "Name: FTR, dtype: int64"
      ]
     },
     "execution_count": 19,
     "metadata": {},
     "output_type": "execute_result"
    }
   ],
   "source": [
    "df[\"FTR\"].value_counts()"
   ]
  },
  {
   "cell_type": "code",
   "execution_count": 5,
   "metadata": {},
   "outputs": [
    {
     "data": {
      "text/plain": [
       "Text(0, 0.5, 'Count')"
      ]
     },
     "execution_count": 5,
     "metadata": {},
     "output_type": "execute_result"
    },
    {
     "data": {
      "image/png": "[encoded data removed]",
      "text/plain": [
       "<Figure size 432x288 with 1 Axes>"
      ]
     },
     "metadata": {
      "needs_background": "light"
     },
     "output_type": "display_data"
    }
   ],
   "source": [
    "sns.countplot(data=df, x=\"FTR\", palette='viridis',)\n",
    "plt.xlabel(\"Full time result\", size=15, color=\"Black\")\n",
    "plt.ylabel(\"Count\", size=15, color=\"Black\")"
   ]
  },
  {
   "cell_type": "code",
   "execution_count": 6,
   "metadata": {},
   "outputs": [],
   "source": [
    "#H: Home team\n",
    "#D: Draw\n",
    "#A: Away team\n",
    "\n",
    "#Observation:\n",
    "#The home team wins by far the most number of games. "
   ]
  },
  {
   "cell_type": "code",
   "execution_count": 6,
   "metadata": {},
   "outputs": [
    {
     "data": {
      "text/html": [
       "<div>\n",
       "<style scoped>\n",
       "    .dataframe tbody tr th:only-of-type {\n",
       "        vertical-align: middle;\n",
       "    }\n",
       "\n",
       "    .dataframe tbody tr th {\n",
       "        vertical-align: top;\n",
       "    }\n",
       "\n",
       "    .dataframe thead th {\n",
       "        text-align: right;\n",
       "    }\n",
       "</style>\n",
       "<table border=\"1\" class=\"dataframe\">\n",
       "  <thead>\n",
       "    <tr style=\"text-align: right;\">\n",
       "      <th></th>\n",
       "      <th>Div</th>\n",
       "      <th>Date</th>\n",
       "      <th>HomeTeam</th>\n",
       "      <th>AwayTeam</th>\n",
       "      <th>FTHG</th>\n",
       "      <th>FTAG</th>\n",
       "      <th>FTR</th>\n",
       "      <th>HTHG</th>\n",
       "      <th>HTAG</th>\n",
       "      <th>HTR</th>\n",
       "      <th>Season</th>\n",
       "      <th>total_goals</th>\n",
       "    </tr>\n",
       "  </thead>\n",
       "  <tbody>\n",
       "    <tr>\n",
       "      <th>7645</th>\n",
       "      <td>D1</td>\n",
       "      <td>12/5/2018</td>\n",
       "      <td>Hoffenheim</td>\n",
       "      <td>Dortmund</td>\n",
       "      <td>3</td>\n",
       "      <td>1</td>\n",
       "      <td>H</td>\n",
       "      <td>1.0</td>\n",
       "      <td>0.0</td>\n",
       "      <td>H</td>\n",
       "      <td>2017-18</td>\n",
       "      <td>4</td>\n",
       "    </tr>\n",
       "    <tr>\n",
       "      <th>7646</th>\n",
       "      <td>D1</td>\n",
       "      <td>12/5/2018</td>\n",
       "      <td>Leverkusen</td>\n",
       "      <td>Hannover</td>\n",
       "      <td>3</td>\n",
       "      <td>2</td>\n",
       "      <td>H</td>\n",
       "      <td>2.0</td>\n",
       "      <td>0.0</td>\n",
       "      <td>H</td>\n",
       "      <td>2017-18</td>\n",
       "      <td>5</td>\n",
       "    </tr>\n",
       "    <tr>\n",
       "      <th>7647</th>\n",
       "      <td>D1</td>\n",
       "      <td>12/5/2018</td>\n",
       "      <td>Mainz</td>\n",
       "      <td>Werder Bremen</td>\n",
       "      <td>1</td>\n",
       "      <td>2</td>\n",
       "      <td>A</td>\n",
       "      <td>1.0</td>\n",
       "      <td>1.0</td>\n",
       "      <td>D</td>\n",
       "      <td>2017-18</td>\n",
       "      <td>3</td>\n",
       "    </tr>\n",
       "    <tr>\n",
       "      <th>7648</th>\n",
       "      <td>D1</td>\n",
       "      <td>12/5/2018</td>\n",
       "      <td>Schalke 04</td>\n",
       "      <td>Ein Frankfurt</td>\n",
       "      <td>1</td>\n",
       "      <td>0</td>\n",
       "      <td>H</td>\n",
       "      <td>1.0</td>\n",
       "      <td>0.0</td>\n",
       "      <td>H</td>\n",
       "      <td>2017-18</td>\n",
       "      <td>1</td>\n",
       "    </tr>\n",
       "    <tr>\n",
       "      <th>7649</th>\n",
       "      <td>D1</td>\n",
       "      <td>12/5/2018</td>\n",
       "      <td>Wolfsburg</td>\n",
       "      <td>FC Koln</td>\n",
       "      <td>4</td>\n",
       "      <td>1</td>\n",
       "      <td>H</td>\n",
       "      <td>1.0</td>\n",
       "      <td>1.0</td>\n",
       "      <td>D</td>\n",
       "      <td>2017-18</td>\n",
       "      <td>5</td>\n",
       "    </tr>\n",
       "  </tbody>\n",
       "</table>\n",
       "</div>"
      ],
      "text/plain": [
       "     Div       Date    HomeTeam       AwayTeam  FTHG  FTAG FTR  HTHG  HTAG  \\\n",
       "7645  D1  12/5/2018  Hoffenheim       Dortmund     3     1   H   1.0   0.0   \n",
       "7646  D1  12/5/2018  Leverkusen       Hannover     3     2   H   2.0   0.0   \n",
       "7647  D1  12/5/2018       Mainz  Werder Bremen     1     2   A   1.0   1.0   \n",
       "7648  D1  12/5/2018  Schalke 04  Ein Frankfurt     1     0   H   1.0   0.0   \n",
       "7649  D1  12/5/2018   Wolfsburg        FC Koln     4     1   H   1.0   1.0   \n",
       "\n",
       "     HTR   Season  total_goals  \n",
       "7645   H  2017-18            4  \n",
       "7646   H  2017-18            5  \n",
       "7647   D  2017-18            3  \n",
       "7648   H  2017-18            1  \n",
       "7649   D  2017-18            5  "
      ]
     },
     "execution_count": 6,
     "metadata": {},
     "output_type": "execute_result"
    }
   ],
   "source": [
    "df['total_goals'] = df['FTAG'] + df['FTHG']\n",
    "df.tail()"
   ]
  },
  {
   "cell_type": "code",
   "execution_count": 7,
   "metadata": {},
   "outputs": [
    {
     "data": {
      "text/plain": [
       "Text(0, 0.5, 'Average goals')"
      ]
     },
     "execution_count": 7,
     "metadata": {},
     "output_type": "execute_result"
    },
    {
     "data": {
      "image/png": "[encoded data removed]",
      "text/plain": [
       "<Figure size 864x576 with 1 Axes>"
      ]
     },
     "metadata": {
      "needs_background": "light"
     },
     "output_type": "display_data"
    }
   ],
   "source": [
    "dp = df.groupby('Season')['total_goals'].mean().plot(kind=\"bar\", title=\"Average goals per game per season\", figsize=(12, 8))\n",
    "dp.set_xlabel(\"Season\")\n",
    "dp.set_ylabel(\"Average goals\")"
   ]
  },
  {
   "cell_type": "code",
   "execution_count": 10,
   "metadata": {},
   "outputs": [],
   "source": [
    "#Observation: Average goals per game are roughly the same for every season at roughly 3 goals/game. "
   ]
  },
  {
   "cell_type": "code",
   "execution_count": 8,
   "metadata": {},
   "outputs": [
    {
     "data": {
      "text/html": [
       "<div>\n",
       "<style scoped>\n",
       "    .dataframe tbody tr th:only-of-type {\n",
       "        vertical-align: middle;\n",
       "    }\n",
       "\n",
       "    .dataframe tbody tr th {\n",
       "        vertical-align: top;\n",
       "    }\n",
       "\n",
       "    .dataframe thead th {\n",
       "        text-align: right;\n",
       "    }\n",
       "</style>\n",
       "<table border=\"1\" class=\"dataframe\">\n",
       "  <thead>\n",
       "    <tr style=\"text-align: right;\">\n",
       "      <th></th>\n",
       "      <th>Div</th>\n",
       "      <th>Date</th>\n",
       "      <th>HomeTeam</th>\n",
       "      <th>AwayTeam</th>\n",
       "      <th>FTHG</th>\n",
       "      <th>FTAG</th>\n",
       "      <th>FTR</th>\n",
       "      <th>HTHG</th>\n",
       "      <th>HTAG</th>\n",
       "      <th>HTR</th>\n",
       "      <th>Season</th>\n",
       "    </tr>\n",
       "  </thead>\n",
       "  <tbody>\n",
       "    <tr>\n",
       "      <th>612</th>\n",
       "      <td>D1</td>\n",
       "      <td>11/8/1995</td>\n",
       "      <td>Dortmund</td>\n",
       "      <td>Kaiserslautern</td>\n",
       "      <td>1</td>\n",
       "      <td>1</td>\n",
       "      <td>D</td>\n",
       "      <td>0.0</td>\n",
       "      <td>0.0</td>\n",
       "      <td>D</td>\n",
       "      <td>1995-96</td>\n",
       "    </tr>\n",
       "    <tr>\n",
       "      <th>613</th>\n",
       "      <td>D1</td>\n",
       "      <td>11/8/1995</td>\n",
       "      <td>Stuttgart</td>\n",
       "      <td>Uerdingen</td>\n",
       "      <td>0</td>\n",
       "      <td>0</td>\n",
       "      <td>D</td>\n",
       "      <td>0.0</td>\n",
       "      <td>0.0</td>\n",
       "      <td>D</td>\n",
       "      <td>1995-96</td>\n",
       "    </tr>\n",
       "    <tr>\n",
       "      <th>614</th>\n",
       "      <td>D1</td>\n",
       "      <td>11/8/1995</td>\n",
       "      <td>Werder Bremen</td>\n",
       "      <td>Dusseldorf</td>\n",
       "      <td>1</td>\n",
       "      <td>1</td>\n",
       "      <td>D</td>\n",
       "      <td>1.0</td>\n",
       "      <td>1.0</td>\n",
       "      <td>D</td>\n",
       "      <td>1995-96</td>\n",
       "    </tr>\n",
       "    <tr>\n",
       "      <th>615</th>\n",
       "      <td>D1</td>\n",
       "      <td>12/8/1995</td>\n",
       "      <td>Bayern Munich</td>\n",
       "      <td>Hamburg</td>\n",
       "      <td>3</td>\n",
       "      <td>2</td>\n",
       "      <td>H</td>\n",
       "      <td>1.0</td>\n",
       "      <td>1.0</td>\n",
       "      <td>D</td>\n",
       "      <td>1995-96</td>\n",
       "    </tr>\n",
       "    <tr>\n",
       "      <th>616</th>\n",
       "      <td>D1</td>\n",
       "      <td>12/8/1995</td>\n",
       "      <td>Ein Frankfurt</td>\n",
       "      <td>Karlsruhe</td>\n",
       "      <td>2</td>\n",
       "      <td>2</td>\n",
       "      <td>D</td>\n",
       "      <td>1.0</td>\n",
       "      <td>1.0</td>\n",
       "      <td>D</td>\n",
       "      <td>1995-96</td>\n",
       "    </tr>\n",
       "  </tbody>\n",
       "</table>\n",
       "</div>"
      ],
      "text/plain": [
       "    Div       Date       HomeTeam        AwayTeam  FTHG  FTAG FTR  HTHG  HTAG  \\\n",
       "612  D1  11/8/1995       Dortmund  Kaiserslautern     1     1   D   0.0   0.0   \n",
       "613  D1  11/8/1995      Stuttgart       Uerdingen     0     0   D   0.0   0.0   \n",
       "614  D1  11/8/1995  Werder Bremen      Dusseldorf     1     1   D   1.0   1.0   \n",
       "615  D1  12/8/1995  Bayern Munich         Hamburg     3     2   H   1.0   1.0   \n",
       "616  D1  12/8/1995  Ein Frankfurt       Karlsruhe     2     2   D   1.0   1.0   \n",
       "\n",
       "    HTR   Season  \n",
       "612   D  1995-96  \n",
       "613   D  1995-96  \n",
       "614   D  1995-96  \n",
       "615   D  1995-96  \n",
       "616   D  1995-96  "
      ]
     },
     "execution_count": 8,
     "metadata": {},
     "output_type": "execute_result"
    }
   ],
   "source": [
    "df.drop('total_goals',axis=1,inplace=True)\n",
    "df.head()"
   ]
  },
  {
   "cell_type": "code",
   "execution_count": 12,
   "metadata": {},
   "outputs": [
    {
     "data": {
      "text/plain": [
       "Text(0, 0.5, 'Count')"
      ]
     },
     "execution_count": 12,
     "metadata": {},
     "output_type": "execute_result"
    },
    {
     "data": {
      "image/png": "[encoded data removed]",
      "text/plain": [
       "<Figure size 432x288 with 1 Axes>"
      ]
     },
     "metadata": {
      "needs_background": "light"
     },
     "output_type": "display_data"
    }
   ],
   "source": [
    "sns.countplot(data=df, x=\"HTR\", hue=\"FTR\")\n",
    "plt.legend(edgecolor=\"White\", facecolor=\"White\")\n",
    "plt.xlabel(\"Half time result\", size=12, color=\"Black\")\n",
    "plt.ylabel(\"Count\", size=12, color=\"Black\")"
   ]
  },
  {
   "cell_type": "code",
   "execution_count": 13,
   "metadata": {},
   "outputs": [],
   "source": [
    "#H : Home team leading at half time.\n",
    "#A : Away team leading at half time.\n",
    "#D : Draw at half time.\n",
    "\n",
    "#The team leading at half time has a huge chance to go on to win the game. If the game is a draw at half time the home team has \n",
    "#the greatest chance to win the game, followed by a draw and the away team has the least chance to win if the game is drawn at \n",
    "#half time. "
   ]
  },
  {
   "cell_type": "code",
   "execution_count": 14,
   "metadata": {},
   "outputs": [],
   "source": [
    "#Rank the top 10 teams over the  period."
   ]
  },
  {
   "cell_type": "code",
   "execution_count": 9,
   "metadata": {},
   "outputs": [
    {
     "data": {
      "text/html": [
       "<div>\n",
       "<style scoped>\n",
       "    .dataframe tbody tr th:only-of-type {\n",
       "        vertical-align: middle;\n",
       "    }\n",
       "\n",
       "    .dataframe tbody tr th {\n",
       "        vertical-align: top;\n",
       "    }\n",
       "\n",
       "    .dataframe thead th {\n",
       "        text-align: right;\n",
       "    }\n",
       "</style>\n",
       "<table border=\"1\" class=\"dataframe\">\n",
       "  <thead>\n",
       "    <tr style=\"text-align: right;\">\n",
       "      <th></th>\n",
       "      <th>Div</th>\n",
       "      <th>Date</th>\n",
       "      <th>HomeTeam</th>\n",
       "      <th>AwayTeam</th>\n",
       "      <th>FTHG</th>\n",
       "      <th>FTAG</th>\n",
       "      <th>FTR</th>\n",
       "      <th>HTHG</th>\n",
       "      <th>HTAG</th>\n",
       "      <th>HTR</th>\n",
       "      <th>Season</th>\n",
       "    </tr>\n",
       "  </thead>\n",
       "  <tbody>\n",
       "    <tr>\n",
       "      <th>7645</th>\n",
       "      <td>D1</td>\n",
       "      <td>12/5/2018</td>\n",
       "      <td>Hoffenheim</td>\n",
       "      <td>Dortmund</td>\n",
       "      <td>3</td>\n",
       "      <td>1</td>\n",
       "      <td>H</td>\n",
       "      <td>1.0</td>\n",
       "      <td>0.0</td>\n",
       "      <td>H</td>\n",
       "      <td>2017-18</td>\n",
       "    </tr>\n",
       "    <tr>\n",
       "      <th>7646</th>\n",
       "      <td>D1</td>\n",
       "      <td>12/5/2018</td>\n",
       "      <td>Leverkusen</td>\n",
       "      <td>Hannover</td>\n",
       "      <td>3</td>\n",
       "      <td>2</td>\n",
       "      <td>H</td>\n",
       "      <td>2.0</td>\n",
       "      <td>0.0</td>\n",
       "      <td>H</td>\n",
       "      <td>2017-18</td>\n",
       "    </tr>\n",
       "    <tr>\n",
       "      <th>7647</th>\n",
       "      <td>D1</td>\n",
       "      <td>12/5/2018</td>\n",
       "      <td>Mainz</td>\n",
       "      <td>Werder Bremen</td>\n",
       "      <td>1</td>\n",
       "      <td>2</td>\n",
       "      <td>A</td>\n",
       "      <td>1.0</td>\n",
       "      <td>1.0</td>\n",
       "      <td>D</td>\n",
       "      <td>2017-18</td>\n",
       "    </tr>\n",
       "    <tr>\n",
       "      <th>7648</th>\n",
       "      <td>D1</td>\n",
       "      <td>12/5/2018</td>\n",
       "      <td>Schalke 04</td>\n",
       "      <td>Ein Frankfurt</td>\n",
       "      <td>1</td>\n",
       "      <td>0</td>\n",
       "      <td>H</td>\n",
       "      <td>1.0</td>\n",
       "      <td>0.0</td>\n",
       "      <td>H</td>\n",
       "      <td>2017-18</td>\n",
       "    </tr>\n",
       "    <tr>\n",
       "      <th>7649</th>\n",
       "      <td>D1</td>\n",
       "      <td>12/5/2018</td>\n",
       "      <td>Wolfsburg</td>\n",
       "      <td>FC Koln</td>\n",
       "      <td>4</td>\n",
       "      <td>1</td>\n",
       "      <td>H</td>\n",
       "      <td>1.0</td>\n",
       "      <td>1.0</td>\n",
       "      <td>D</td>\n",
       "      <td>2017-18</td>\n",
       "    </tr>\n",
       "  </tbody>\n",
       "</table>\n",
       "</div>"
      ],
      "text/plain": [
       "     Div       Date    HomeTeam       AwayTeam  FTHG  FTAG FTR  HTHG  HTAG  \\\n",
       "7645  D1  12/5/2018  Hoffenheim       Dortmund     3     1   H   1.0   0.0   \n",
       "7646  D1  12/5/2018  Leverkusen       Hannover     3     2   H   2.0   0.0   \n",
       "7647  D1  12/5/2018       Mainz  Werder Bremen     1     2   A   1.0   1.0   \n",
       "7648  D1  12/5/2018  Schalke 04  Ein Frankfurt     1     0   H   1.0   0.0   \n",
       "7649  D1  12/5/2018   Wolfsburg        FC Koln     4     1   H   1.0   1.0   \n",
       "\n",
       "     HTR   Season  \n",
       "7645   H  2017-18  \n",
       "7646   H  2017-18  \n",
       "7647   D  2017-18  \n",
       "7648   H  2017-18  \n",
       "7649   D  2017-18  "
      ]
     },
     "execution_count": 9,
     "metadata": {},
     "output_type": "execute_result"
    }
   ],
   "source": [
    "results = df\n",
    "\n",
    "results.tail()\n"
   ]
  },
  {
   "cell_type": "code",
   "execution_count": 10,
   "metadata": {},
   "outputs": [],
   "source": [
    "results['H'] = results['HomeTeam']\n",
    "results['A'] = results['AwayTeam']\n",
    "cols = ['Div', 'Date', 'HomeTeam', 'AwayTeam', 'FTHG', 'FTAG', 'FTR', 'HTHG', 'HTAG', 'HTR', 'Season']\n",
    "\n",
    "points = pd.melt(results, id_vars = cols, value_vars=['H', 'A'], var_name='Home/Away', value_name='Team')\n",
    "points['Opponent'] = np.where(points['Team'] == points['HomeTeam'], points['AwayTeam'], points['HomeTeam'])"
   ]
  },
  {
   "cell_type": "code",
   "execution_count": 11,
   "metadata": {},
   "outputs": [],
   "source": [
    "points_map = {'W': 3, 'D': 1, 'L': 0}\n",
    "\n",
    "def get_result(score, score_opp):\n",
    "    if score == score_opp:\n",
    "        return 'D'\n",
    "    elif score > score_opp:\n",
    "        return 'W'\n",
    "    else:\n",
    "        return 'L'"
   ]
  },
  {
   "cell_type": "code",
   "execution_count": 12,
   "metadata": {},
   "outputs": [],
   "source": [
    "points['Goals'] = np.where(points['Team'] == points['HomeTeam'], points['FTHG'], points['FTAG'])\n",
    "points['Goals_Opp'] = np.where(points['Team'] != points['HomeTeam'], points['FTHG'], points['FTAG'])\n",
    "\n",
    "points['Result'] = np.vectorize(get_result)(points['Goals'], points['Goals_Opp'])\n",
    "points['Points'] = points['Result'].map(points_map)"
   ]
  },
  {
   "cell_type": "code",
   "execution_count": 13,
   "metadata": {},
   "outputs": [
    {
     "data": {
      "text/plain": [
       "Text(0, 0.5, 'Total points')"
      ]
     },
     "execution_count": 13,
     "metadata": {},
     "output_type": "execute_result"
    },
    {
     "data": {
      "image/png": "[encoded data removed]",
      "text/plain": [
       "<Figure size 864x576 with 1 Axes>"
      ]
     },
     "metadata": {
      "needs_background": "light"
     },
     "output_type": "display_data"
    }
   ],
   "source": [
    "top_teams = points.groupby('Team').sum()['Points'].sort_values(ascending=False)\n",
    "top_teams = top_teams.head(10) \n",
    "\n",
    "dp = top_teams.plot(kind=\"bar\", title=\"Top 10 teams by total points\",  figsize=(12, 8))\n",
    "dp.set_xlabel(\"Team\")\n",
    "dp.set_ylabel(\"Total points\")"
   ]
  },
  {
   "cell_type": "code",
   "execution_count": 20,
   "metadata": {},
   "outputs": [],
   "source": [
    "#Bayern Munich have the most number of total points summed over all of the seasons (3 points for a win and 1 point for a draw)."
   ]
  }
 ],
 "metadata": {
  "kernelspec": {
   "display_name": "Python 3",
   "language": "python",
   "name": "python3"
  },
  "language_info": {
   "codemirror_mode": {
    "name": "ipython",
    "version": 3
   },
   "file_extension": ".py",
   "mimetype": "text/x-python",
   "name": "python",
   "nbconvert_exporter": "python",
   "pygments_lexer": "ipython3",
   "version": "3.9.1"
  }
 },
 "nbformat": 4,
 "nbformat_minor": 4
}
